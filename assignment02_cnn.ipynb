{
 "cells": [
  {
   "cell_type": "markdown",
   "metadata": {},
   "source": [
    "## ML Assignment 02 CNN Model"
   ]
  },
  {
   "cell_type": "code",
   "execution_count": 1,
   "metadata": {},
   "outputs": [
    {
     "name": "stderr",
     "output_type": "stream",
     "text": [
      "2024-05-27 12:34:12.097981: I tensorflow/core/util/port.cc:113] oneDNN custom operations are on. You may see slightly different numerical results due to floating-point round-off errors from different computation orders. To turn them off, set the environment variable `TF_ENABLE_ONEDNN_OPTS=0`.\n",
      "2024-05-27 12:34:12.140455: I tensorflow/core/platform/cpu_feature_guard.cc:210] This TensorFlow binary is optimized to use available CPU instructions in performance-critical operations.\n",
      "To enable the following instructions: AVX2 AVX512F AVX512_VNNI FMA, in other operations, rebuild TensorFlow with the appropriate compiler flags.\n"
     ]
    },
    {
     "name": "stdout",
     "output_type": "stream",
     "text": [
      "numpy version: 1.26.4\n",
      "tensorflow version: 2.16.1\n"
     ]
    }
   ],
   "source": [
    "import numpy as np\n",
    "import matplotlib.pyplot as plt\n",
    "import tensorflow as tf\n",
    "from tensorflow.keras.models import Sequential\n",
    "from tensorflow.keras.layers import Conv2D, MaxPooling2D, Flatten, Dense, Dropout\n",
    "from tensorflow.keras import regularizers\n",
    "\n",
    "# Ensure that the correct versions of libraries are installed\n",
    "print(f'numpy version: {np.__version__}')\n",
    "print(f'tensorflow version: {tf.__version__}')"
   ]
  },
  {
   "cell_type": "markdown",
   "metadata": {},
   "source": [
    "### Data Loading and Preprocessing\n"
   ]
  },
  {
   "cell_type": "code",
   "execution_count": 2,
   "metadata": {},
   "outputs": [],
   "source": [
    "# Load the dataset using np.genfromtxt\n",
    "data = np.genfromtxt('traindata.txt', dtype=float, delimiter=',')\n",
    "labels = np.genfromtxt('trainlabels.txt', dtype=int, delimiter=',')\n",
    "\n",
    "# Separate features and rotation values\n",
    "features = data[:, :-1]\n",
    "rotations = data[:, -1]"
   ]
  },
  {
   "cell_type": "markdown",
   "metadata": {},
   "source": [
    "#### Noise Identification and Adjustment\n",
    "- **Identify columns with negative values** (assumed to be noise) and stores their indices in `noise_columns`.\n",
    "- **Identify columns immediately after the noise columns** and stores their indices in `adjusted_columns`. These values are assumed to be scaled up (x10).\n",
    "- **Adjust the values** in the `adjusted_columns` by dividing them by 10.\n",
    "- **Remove the noise columns** from the features to get `features_cleaned`."
   ]
  },
  {
   "cell_type": "code",
   "execution_count": 3,
   "metadata": {},
   "outputs": [
    {
     "name": "stdout",
     "output_type": "stream",
     "text": [
      "Cleaned features shape: (5250, 1024)\n"
     ]
    }
   ],
   "source": [
    "# Identify columns with negative values (assumed noise)\n",
    "noise_columns = [col for col in range(features.shape[1]) if (features[:, col] < 0).any()]\n",
    "\n",
    "# Identify columns immediately after the noise columns\n",
    "adjusted_columns = [col + 1 for col in noise_columns if col + 1 < features.shape[1]]\n",
    "\n",
    "# Divide values in the adjusted columns by 10\n",
    "features[:, adjusted_columns] = features[:, adjusted_columns] / 10\n",
    "\n",
    "# Drop the noise columns\n",
    "features_cleaned = np.delete(features, noise_columns, axis=1)\n",
    "\n",
    "# Verify the new shape after removing noise columns\n",
    "print(\"Cleaned features shape:\", features_cleaned.shape)"
   ]
  },
  {
   "cell_type": "markdown",
   "metadata": {},
   "source": [
    "#### Data Reshaping and Normalization\n",
    "- **Check the number of columns** in `features_cleaned` to ensure it matches the expected 1024 columns.\n",
    "- **Reshape each row** of `features_cleaned` into a 32x32 image and adds an extra dimension for the single channel.\n",
    "- **Rotate the images** based on the rotation values.\n",
    "- **Normalize the pixel values** to be between 0 and 1.\n",
    "- **One-hot encodes the labels** to prepare them for classification."
   ]
  },
  {
   "cell_type": "code",
   "execution_count": 4,
   "metadata": {},
   "outputs": [],
   "source": [
    "# Check if we have 1024 columns after removing noise and rotation column\n",
    "if features_cleaned.shape[1] != 1024:\n",
    "    raise ValueError(\"Unexpected number of columns after cleaning. Expected 1024 columns.\")\n",
    "\n",
    "# Reshape each row into a 32x32 image\n",
    "images = features_cleaned.reshape(-1, 32, 32, 1)\n",
    "\n",
    "# Rotate images based on rotation values\n",
    "for i in range(len(images)):\n",
    "    if rotations[i] == 2:\n",
    "        images[i] = np.rot90(images[i], 2)\n",
    "    elif rotations[i] == 1:\n",
    "        images[i] = np.rot90(images[i], 3)\n",
    "    elif rotations[i] == 3:\n",
    "        images[i] = np.rot90(images[i], 1)\n",
    "\n",
    "# Normalize pixel values to be between 0 and 1\n",
    "images = images / 255.0\n",
    "\n",
    "# One-hot encode labels\n",
    "labels = tf.keras.utils.to_categorical(labels, num_classes=21)"
   ]
  },
  {
   "cell_type": "markdown",
   "metadata": {},
   "source": [
    "#### Data Splitting\n",
    "- Training data: first 4200 samples.\n",
    "- Validation data: samples from 4200 to 4725.\n",
    "- Test data: samples from 4725 onwards.\n",
    "\n",
    "or **Shuffle the Data then Split**:\n",
    "- Create an array of indices using `np.arange(images.shape[0])`.\n",
    "- Shuffle the indices using `np.random.shuffle(indices)`.\n",
    "- Apply the shuffled indices to both `images` and `labels`.\n",
    "- Calculate `train_size`, `val_size`, and `test_size` based on proportions (80% for training, 10% for validation, and 10% for testing).\n",
    "- Split the shuffled data into training, validation, and test sets accordingly.\n",
    "\n",
    "comment out either option and use one."
   ]
  },
  {
   "cell_type": "code",
   "execution_count": 5,
   "metadata": {},
   "outputs": [],
   "source": [
    "# Split data into training, validation, and test sets\n",
    "train_images, train_labels = images[:4200], labels[:4200]\n",
    "val_images, val_labels = images[4200:4725], labels[4200:4725]\n",
    "test_images, test_labels = images[4725:], labels[4725:]\n",
    "\n",
    "# Shuffle the data\n",
    "# indices = np.arange(images.shape[0])\n",
    "# np.random.shuffle(indices)\n",
    "# images = images[indices]\n",
    "# labels = labels[indices]\n",
    "\n",
    "# Split data into training, validation, and test sets\n",
    "# train_size = int(0.8 * images.shape[0])\n",
    "# val_size = int(0.1 * images.shape[0])\n",
    "# test_size = images.shape[0] - train_size - val_size\n",
    "\n",
    "# train_images, train_labels = images[:train_size], labels[:train_size]\n",
    "# val_images, val_labels = images[train_size:train_size + val_size], labels[train_size:train_size + val_size]\n",
    "# test_images, test_labels = images[train_size + val_size:], labels[train_size + val_size:]"
   ]
  },
  {
   "cell_type": "markdown",
   "metadata": {},
   "source": [
    "### Model Construction\n",
    "- **Build the CNN model** using the Sequential API:\n",
    "- **Conv2D layers**: for convolution operations.\n",
    "- **MaxPooling2D layers**: for downsampling.\n",
    "- **Flatten layer**: to flatten the 2D outputs to 1D.\n",
    "- **Dense layers**: fully connected layers.\n",
    "- **Dropout layer**: to prevent overfitting.\n",
    "- **Output layer**: with 21 units (one for each class) and softmax activation for classification."
   ]
  },
  {
   "cell_type": "code",
   "execution_count": 6,
   "metadata": {},
   "outputs": [
    {
     "name": "stderr",
     "output_type": "stream",
     "text": [
      "/home/sean-mz/.local/lib/python3.10/site-packages/keras/src/layers/convolutional/base_conv.py:107: UserWarning: Do not pass an `input_shape`/`input_dim` argument to a layer. When using Sequential models, prefer using an `Input(shape)` object as the first layer in the model instead.\n",
      "  super().__init__(activity_regularizer=activity_regularizer, **kwargs)\n"
     ]
    }
   ],
   "source": [
    "# Build the CNN model\n",
    "model = Sequential()\n",
    "model.add(Conv2D(32, (3, 3), activation='relu', input_shape=(32, 32, 1), kernel_regularizer=regularizers.l2(0.0001)))\n",
    "model.add(MaxPooling2D((2, 2)))\n",
    "model.add(Conv2D(64, (3, 3), activation='relu'))\n",
    "model.add(MaxPooling2D((2, 2)))\n",
    "model.add(Conv2D(64, (3, 3), activation='relu'))\n",
    "model.add(Flatten())\n",
    "model.add(Dense(64, activation='relu'))\n",
    "model.add(Dropout(0.07))\n",
    "model.add(Dense(21, activation='softmax'))\n"
   ]
  },
  {
   "cell_type": "markdown",
   "metadata": {},
   "source": [
    "### Model Compilation\n",
    "**Compile the Model**:\n",
    "- Optimizer: Adam.\n",
    "- Loss function: categorical crossentropy.\n",
    "- Metric: accuracy."
   ]
  },
  {
   "cell_type": "code",
   "execution_count": 7,
   "metadata": {},
   "outputs": [],
   "source": [
    "# Compile the model\n",
    "model.compile(optimizer='adam', loss='categorical_crossentropy', metrics=['accuracy'])"
   ]
  },
  {
   "cell_type": "markdown",
   "metadata": {},
   "source": [
    "#### Model Training\n",
    "**Train the model** using the training data and validates it on the validation data.\n",
    "Parameters:\n",
    "- Epochs: 10.\n",
    "- Batch size: 32."
   ]
  },
  {
   "cell_type": "code",
   "execution_count": 8,
   "metadata": {},
   "outputs": [
    {
     "name": "stdout",
     "output_type": "stream",
     "text": [
      "Epoch 1/10\n",
      "\u001b[1m132/132\u001b[0m \u001b[32m━━━━━━━━━━━━━━━━━━━━\u001b[0m\u001b[37m\u001b[0m \u001b[1m3s\u001b[0m 14ms/step - accuracy: 0.1313 - loss: 2.8528 - val_accuracy: 0.4419 - val_loss: 1.9377\n",
      "Epoch 2/10\n",
      "\u001b[1m132/132\u001b[0m \u001b[32m━━━━━━━━━━━━━━━━━━━━\u001b[0m\u001b[37m\u001b[0m \u001b[1m2s\u001b[0m 11ms/step - accuracy: 0.5058 - loss: 1.7762 - val_accuracy: 0.5752 - val_loss: 1.5223\n",
      "Epoch 3/10\n",
      "\u001b[1m132/132\u001b[0m \u001b[32m━━━━━━━━━━━━━━━━━━━━\u001b[0m\u001b[37m\u001b[0m \u001b[1m2s\u001b[0m 11ms/step - accuracy: 0.6141 - loss: 1.3969 - val_accuracy: 0.6229 - val_loss: 1.3428\n",
      "Epoch 4/10\n",
      "\u001b[1m132/132\u001b[0m \u001b[32m━━━━━━━━━━━━━━━━━━━━\u001b[0m\u001b[37m\u001b[0m \u001b[1m2s\u001b[0m 11ms/step - accuracy: 0.6757 - loss: 1.1729 - val_accuracy: 0.6362 - val_loss: 1.3371\n",
      "Epoch 5/10\n",
      "\u001b[1m132/132\u001b[0m \u001b[32m━━━━━━━━━━━━━━━━━━━━\u001b[0m\u001b[37m\u001b[0m \u001b[1m2s\u001b[0m 12ms/step - accuracy: 0.6871 - loss: 1.0856 - val_accuracy: 0.6533 - val_loss: 1.2994\n",
      "Epoch 6/10\n",
      "\u001b[1m132/132\u001b[0m \u001b[32m━━━━━━━━━━━━━━━━━━━━\u001b[0m\u001b[37m\u001b[0m \u001b[1m2s\u001b[0m 11ms/step - accuracy: 0.7153 - loss: 0.9731 - val_accuracy: 0.6686 - val_loss: 1.2635\n",
      "Epoch 7/10\n",
      "\u001b[1m132/132\u001b[0m \u001b[32m━━━━━━━━━━━━━━━━━━━━\u001b[0m\u001b[37m\u001b[0m \u001b[1m2s\u001b[0m 12ms/step - accuracy: 0.7417 - loss: 0.9064 - val_accuracy: 0.6724 - val_loss: 1.2392\n",
      "Epoch 8/10\n",
      "\u001b[1m132/132\u001b[0m \u001b[32m━━━━━━━━━━━━━━━━━━━━\u001b[0m\u001b[37m\u001b[0m \u001b[1m1s\u001b[0m 11ms/step - accuracy: 0.7689 - loss: 0.8077 - val_accuracy: 0.6571 - val_loss: 1.2218\n",
      "Epoch 9/10\n",
      "\u001b[1m132/132\u001b[0m \u001b[32m━━━━━━━━━━━━━━━━━━━━\u001b[0m\u001b[37m\u001b[0m \u001b[1m1s\u001b[0m 11ms/step - accuracy: 0.7873 - loss: 0.7394 - val_accuracy: 0.6571 - val_loss: 1.2631\n",
      "Epoch 10/10\n",
      "\u001b[1m132/132\u001b[0m \u001b[32m━━━━━━━━━━━━━━━━━━━━\u001b[0m\u001b[37m\u001b[0m \u001b[1m2s\u001b[0m 11ms/step - accuracy: 0.7999 - loss: 0.6865 - val_accuracy: 0.6800 - val_loss: 1.2852\n"
     ]
    }
   ],
   "source": [
    "# Train the model\n",
    "history = model.fit(train_images, train_labels, epochs=10, batch_size=32, validation_data=(val_images, val_labels))"
   ]
  },
  {
   "cell_type": "markdown",
   "metadata": {},
   "source": [
    "### Model Evaluation\n",
    "Evaluate the model on the test set and prints the test accuracy."
   ]
  },
  {
   "cell_type": "code",
   "execution_count": 9,
   "metadata": {},
   "outputs": [
    {
     "name": "stdout",
     "output_type": "stream",
     "text": [
      "17/17 - 0s - 5ms/step - accuracy: 0.7238 - loss: 1.0433\n",
      "Test accuracy: 0.723809540271759\n"
     ]
    }
   ],
   "source": [
    "# Evaluate the model on the test set\n",
    "test_loss, test_acc = model.evaluate(test_images, test_labels, verbose=2)\n",
    "print('Test accuracy:', test_acc)"
   ]
  },
  {
   "cell_type": "markdown",
   "metadata": {},
   "source": [
    "#### Plot Training and Validation Accuracy\n",
    "Plot the training and validation accuracy over the epochs to visualize the model's performance"
   ]
  },
  {
   "cell_type": "code",
   "execution_count": 10,
   "metadata": {},
   "outputs": [
    {
     "data": {
      "image/png": "[encoded data removed]",
      "text/plain": [
       "<Figure size 640x480 with 1 Axes>"
      ]
     },
     "metadata": {},
     "output_type": "display_data"
    }
   ],
   "source": [
    "# Plot training and validation accuracy\n",
    "plt.plot(history.history['accuracy'], label='accuracy')\n",
    "plt.plot(history.history['val_accuracy'], label='val_accuracy')\n",
    "plt.xlabel('Epoch')\n",
    "plt.ylabel('Accuracy')\n",
    "plt.ylim([0, 1])\n",
    "plt.legend(loc='lower right')\n",
    "plt.show()"
   ]
  },
  {
   "cell_type": "markdown",
   "metadata": {},
   "source": [
    "#### Predictions and Output\n",
    "- **Make predictions** on the test set.\n",
    "- **Extract the predicted and true labels.**\n",
    "- **Write the true and predicted labels** to a text file `test_predictions.txt` for comparison."
   ]
  },
  {
   "cell_type": "code",
   "execution_count": 11,
   "metadata": {},
   "outputs": [
    {
     "name": "stdout",
     "output_type": "stream",
     "text": [
      "\u001b[1m17/17\u001b[0m \u001b[32m━━━━━━━━━━━━━━━━━━━━\u001b[0m\u001b[37m\u001b[0m \u001b[1m0s\u001b[0m 7ms/step\n"
     ]
    }
   ],
   "source": [
    "# Predict labels for the test set\n",
    "predictions = model.predict(test_images)\n",
    "predicted_labels = np.argmax(predictions, axis=1)\n",
    "true_labels = np.argmax(test_labels, axis=1)\n",
    "\n",
    "# Write the true and predicted labels to a text file\n",
    "with open('test_predictions.txt', 'w') as f:\n",
    "    f.write('TrueLabel,PredictedLabel\\n')\n",
    "    for true_label, predicted_label in zip(true_labels, predicted_labels):\n",
    "        f.write(f'{true_label},{predicted_label}\\n')\n"
   ]
  }
 ],
 "metadata": {
  "language_info": {
   "name": "python"
  }
 },
 "nbformat": 4,
 "nbformat_minor": 2
}
